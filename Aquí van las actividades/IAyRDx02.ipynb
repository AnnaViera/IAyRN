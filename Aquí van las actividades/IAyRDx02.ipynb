{
  "nbformat": 4,
  "nbformat_minor": 0,
  "metadata": {
    "colab": {
      "name": "Untitled1.ipynb",
      "provenance": []
    },
    "kernelspec": {
      "name": "python3",
      "display_name": "Python 3"
    },
    "language_info": {
      "name": "python"
    }
  },
  "cells": [
    {
      "cell_type": "markdown",
      "source": [
        "# **A2: Ejercicios Básicos en Python**\n",
        "# Ana Karen Viera Lopez 1921979  Hora: N1, Jueves"
      ],
      "metadata": {
        "id": "43fB_iFE_G34"
      }
    },
    {
      "cell_type": "markdown",
      "source": [
        "# **Problema 1**\n",
        "Escribe un programa que le pida al usuario por su nombre y que lo salude con su nombre, excepto si se llama “Ana”, “Juan”, y “Pedro”."
      ],
      "metadata": {
        "id": "z6DfI9qH0SJD"
      }
    },
    {
      "cell_type": "code",
      "execution_count": 41,
      "metadata": {
        "colab": {
          "base_uri": "https://localhost:8080/"
        },
        "id": "VTMM7NI50CU9",
        "outputId": "5a7eff92-ab78-440f-ddf7-856b3d055c06"
      },
      "outputs": [
        {
          "output_type": "stream",
          "name": "stdout",
          "text": [
            "Escriba su nombre: Ana\n",
            "Error!\n"
          ]
        }
      ],
      "source": [
        "nombre = input(\"Escriba su nombre: \")\n",
        "if nombre == (\"Ana\"):\n",
        "  print(\"Error!\")\n",
        "elif nombre == (\"Juan\"):#Si no se ingresa \"Ana\" el programa intenta con \"Juan\"\n",
        "  print(\"Error!\")\n",
        "elif nombre == (\"Pedro\"): #Si no se ingresa \"Juan\" se intenta con \"Pedro\"\n",
        "  print(\"Error!\")\n",
        "else: #Si no se ingresa ninguno de los tres se muestra el saludo.\n",
        "  print(\"Hola \" + nombre)"
      ]
    },
    {
      "cell_type": "markdown",
      "source": [
        "# **Problema 2** \n",
        "Escribe una función que regrese el último elemento de una lista y que revierta el orden de la lista e imprima la lista revertida."
      ],
      "metadata": {
        "id": "ACvqgkQ-1Bqk"
      }
    },
    {
      "cell_type": "code",
      "source": [
        "colors = [\"blue\", \"orange\", \"black\", \"pink\", \"white\"]\n",
        "print(\"Último elemento: \") #Para regresar el ultimo elemento de la lista\n",
        "print(colors[-1])\n",
        "colors.reverse() #Invierte la lista\n",
        "print(\"Lista invertida: \")\n",
        "for x in colors: #Itera sobre la lista\n",
        " print(x)"
      ],
      "metadata": {
        "colab": {
          "base_uri": "https://localhost:8080/"
        },
        "id": "NVKiZIJN0fC3",
        "outputId": "3e34e07d-91aa-461e-c54a-32ba963c2f7d"
      },
      "execution_count": 39,
      "outputs": [
        {
          "output_type": "stream",
          "name": "stdout",
          "text": [
            "Último elemento: \n",
            "white\n",
            "Lista invertida: \n",
            "white\n",
            "pink\n",
            "black\n",
            "orange\n",
            "blue\n"
          ]
        }
      ]
    },
    {
      "cell_type": "markdown",
      "source": [
        "#**Problema 3**\n",
        "Escribe una función que toma una lista de strings y los imprima línea por línea en un marco rectangular.\n"
      ],
      "metadata": {
        "id": "Xzj7n4kH-hyi"
      }
    },
    {
      "cell_type": "code",
      "source": [
        "lista = [\"a    \", \"ver  \", \"como \", \"me   \", \"sale \", \"el   \", \"marco\"]\n",
        "def marco(): #Funcion para imprimir las partes horizontales del marco\n",
        " print(\"*********\")\n",
        "marco()\n",
        "for x in lista:\n",
        " print(\"* \" + x + \" *\") #Aqui se imprimen los lados verticales del marco\n",
        "marco() #Se llama a la funcion anterior"
      ],
      "metadata": {
        "colab": {
          "base_uri": "https://localhost:8080/"
        },
        "id": "r9Z8syH2-1Ao",
        "outputId": "30253709-2249-40dd-d302-9a215a1ba7f6"
      },
      "execution_count": 71,
      "outputs": [
        {
          "output_type": "stream",
          "name": "stdout",
          "text": [
            "*********\n",
            "* a     *\n",
            "* ver   *\n",
            "* como  *\n",
            "* me    *\n",
            "* sale  *\n",
            "* el    *\n",
            "* marco *\n",
            "*********\n"
          ]
        }
      ]
    }
  ]
}